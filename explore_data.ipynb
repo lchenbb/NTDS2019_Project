{
 "cells": [
  {
   "cell_type": "code",
   "execution_count": 2,
   "metadata": {},
   "outputs": [
    {
     "name": "stderr",
     "output_type": "stream",
     "text": [
      "/home/liangwei/anaconda3/lib/python3.6/importlib/_bootstrap.py:219: RuntimeWarning: numpy.dtype size changed, may indicate binary incompatibility. Expected 96, got 88\n",
      "  return f(*args, **kwds)\n",
      "/home/liangwei/anaconda3/lib/python3.6/importlib/_bootstrap.py:219: RuntimeWarning: numpy.dtype size changed, may indicate binary incompatibility. Expected 96, got 88\n",
      "  return f(*args, **kwds)\n",
      "/home/liangwei/anaconda3/lib/python3.6/importlib/_bootstrap.py:219: RuntimeWarning: numpy.dtype size changed, may indicate binary incompatibility. Expected 96, got 88\n",
      "  return f(*args, **kwds)\n"
     ]
    }
   ],
   "source": [
    "import numpy as np\n",
    "import pandas as pd\n",
    "import networkx as nx\n",
    "#import cartopy.crs as ccrs\n",
    "import matplotlib.pyplot as plt\n",
    "from geopy.distance import geodesic\n",
    "import collections\n",
    "import scipy\n",
    "import operator\n",
    "from functools import reduce\n",
    "import community as cmt\n",
    "from networkx.algorithms.community import greedy_modularity_communities\n",
    "import seaborn as sns\n",
    "from sklearn.mixture import GaussianMixture as GMM\n",
    "import random\n",
    "sns.set(rc={'figure.figsize':(16,9)})\n",
    "%matplotlib inline\n",
    "\n",
    "import warnings\n",
    "warnings.filterwarnings('ignore')"
   ]
  },
  {
   "cell_type": "markdown",
   "metadata": {},
   "source": [
    "# 1. Load cleaned dataset"
   ]
  },
  {
   "cell_type": "code",
   "execution_count": 80,
   "metadata": {},
   "outputs": [],
   "source": [
    "routes = pd.read_csv(\"./data/routes_cleaned.csv\")\n",
    "airports = pd.read_csv(\"./data/airports_cleaned.csv\")"
   ]
  },
  {
   "cell_type": "code",
   "execution_count": 9,
   "metadata": {},
   "outputs": [],
   "source": [
    "# Load routes with distance\n",
    "dists_df = pd.read_csv(\"./data/dists.csv\")"
   ]
  },
  {
   "cell_type": "markdown",
   "metadata": {},
   "source": [
    "# 2. Create network"
   ]
  },
  {
   "cell_type": "code",
   "execution_count": 7,
   "metadata": {},
   "outputs": [
    {
     "data": {
      "text/html": [
       "<div>\n",
       "<style scoped>\n",
       "    .dataframe tbody tr th:only-of-type {\n",
       "        vertical-align: middle;\n",
       "    }\n",
       "\n",
       "    .dataframe tbody tr th {\n",
       "        vertical-align: top;\n",
       "    }\n",
       "\n",
       "    .dataframe thead th {\n",
       "        text-align: right;\n",
       "    }\n",
       "</style>\n",
       "<table border=\"1\" class=\"dataframe\">\n",
       "  <thead>\n",
       "    <tr style=\"text-align: right;\">\n",
       "      <th></th>\n",
       "      <th>Unnamed: 0</th>\n",
       "      <th>airline</th>\n",
       "      <th>airline_id</th>\n",
       "      <th>source_airport</th>\n",
       "      <th>source_airport_id</th>\n",
       "      <th>destination_airport</th>\n",
       "      <th>destination_airport_id</th>\n",
       "      <th>codeshare</th>\n",
       "      <th>stops</th>\n",
       "      <th>equipment</th>\n",
       "    </tr>\n",
       "  </thead>\n",
       "  <tbody>\n",
       "    <tr>\n",
       "      <th>0</th>\n",
       "      <td>0</td>\n",
       "      <td>2B</td>\n",
       "      <td>410</td>\n",
       "      <td>AER</td>\n",
       "      <td>2965</td>\n",
       "      <td>KZN</td>\n",
       "      <td>2990</td>\n",
       "      <td>NaN</td>\n",
       "      <td>0</td>\n",
       "      <td>CR2</td>\n",
       "    </tr>\n",
       "    <tr>\n",
       "      <th>1</th>\n",
       "      <td>1</td>\n",
       "      <td>2B</td>\n",
       "      <td>410</td>\n",
       "      <td>ASF</td>\n",
       "      <td>2966</td>\n",
       "      <td>KZN</td>\n",
       "      <td>2990</td>\n",
       "      <td>NaN</td>\n",
       "      <td>0</td>\n",
       "      <td>CR2</td>\n",
       "    </tr>\n",
       "    <tr>\n",
       "      <th>2</th>\n",
       "      <td>2</td>\n",
       "      <td>2B</td>\n",
       "      <td>410</td>\n",
       "      <td>ASF</td>\n",
       "      <td>2966</td>\n",
       "      <td>MRV</td>\n",
       "      <td>2962</td>\n",
       "      <td>NaN</td>\n",
       "      <td>0</td>\n",
       "      <td>CR2</td>\n",
       "    </tr>\n",
       "    <tr>\n",
       "      <th>3</th>\n",
       "      <td>3</td>\n",
       "      <td>2B</td>\n",
       "      <td>410</td>\n",
       "      <td>CEK</td>\n",
       "      <td>2968</td>\n",
       "      <td>KZN</td>\n",
       "      <td>2990</td>\n",
       "      <td>NaN</td>\n",
       "      <td>0</td>\n",
       "      <td>CR2</td>\n",
       "    </tr>\n",
       "    <tr>\n",
       "      <th>4</th>\n",
       "      <td>4</td>\n",
       "      <td>2B</td>\n",
       "      <td>410</td>\n",
       "      <td>CEK</td>\n",
       "      <td>2968</td>\n",
       "      <td>OVB</td>\n",
       "      <td>4078</td>\n",
       "      <td>NaN</td>\n",
       "      <td>0</td>\n",
       "      <td>CR2</td>\n",
       "    </tr>\n",
       "  </tbody>\n",
       "</table>\n",
       "</div>"
      ],
      "text/plain": [
       "   Unnamed: 0 airline airline_id source_airport source_airport_id  \\\n",
       "0           0      2B        410            AER              2965   \n",
       "1           1      2B        410            ASF              2966   \n",
       "2           2      2B        410            ASF              2966   \n",
       "3           3      2B        410            CEK              2968   \n",
       "4           4      2B        410            CEK              2968   \n",
       "\n",
       "  destination_airport destination_airport_id codeshare  stops equipment  \n",
       "0                 KZN                   2990       NaN      0       CR2  \n",
       "1                 KZN                   2990       NaN      0       CR2  \n",
       "2                 MRV                   2962       NaN      0       CR2  \n",
       "3                 KZN                   2990       NaN      0       CR2  \n",
       "4                 OVB                   4078       NaN      0       CR2  "
      ]
     },
     "execution_count": 7,
     "metadata": {},
     "output_type": "execute_result"
    }
   ],
   "source": [
    "routes.head()"
   ]
  },
  {
   "cell_type": "code",
   "execution_count": 8,
   "metadata": {},
   "outputs": [
    {
     "data": {
      "text/html": [
       "<div>\n",
       "<style scoped>\n",
       "    .dataframe tbody tr th:only-of-type {\n",
       "        vertical-align: middle;\n",
       "    }\n",
       "\n",
       "    .dataframe tbody tr th {\n",
       "        vertical-align: top;\n",
       "    }\n",
       "\n",
       "    .dataframe thead th {\n",
       "        text-align: right;\n",
       "    }\n",
       "</style>\n",
       "<table border=\"1\" class=\"dataframe\">\n",
       "  <thead>\n",
       "    <tr style=\"text-align: right;\">\n",
       "      <th></th>\n",
       "      <th>Unnamed: 0</th>\n",
       "      <th>airport_id</th>\n",
       "      <th>Name</th>\n",
       "      <th>City</th>\n",
       "      <th>Country</th>\n",
       "      <th>IATA</th>\n",
       "      <th>ICAO</th>\n",
       "      <th>Latitude</th>\n",
       "      <th>Longitude</th>\n",
       "      <th>Altitude</th>\n",
       "      <th>Timezone</th>\n",
       "      <th>DST</th>\n",
       "      <th>TzDatabase</th>\n",
       "      <th>Type</th>\n",
       "      <th>Source</th>\n",
       "    </tr>\n",
       "  </thead>\n",
       "  <tbody>\n",
       "    <tr>\n",
       "      <th>0</th>\n",
       "      <td>0</td>\n",
       "      <td>1</td>\n",
       "      <td>Goroka Airport</td>\n",
       "      <td>Goroka</td>\n",
       "      <td>Papua New Guinea</td>\n",
       "      <td>GKA</td>\n",
       "      <td>AYGA</td>\n",
       "      <td>-6.081690</td>\n",
       "      <td>145.391998</td>\n",
       "      <td>5282</td>\n",
       "      <td>10</td>\n",
       "      <td>U</td>\n",
       "      <td>Pacific/Port_Moresby</td>\n",
       "      <td>airport</td>\n",
       "      <td>OurAirports</td>\n",
       "    </tr>\n",
       "    <tr>\n",
       "      <th>1</th>\n",
       "      <td>1</td>\n",
       "      <td>2</td>\n",
       "      <td>Madang Airport</td>\n",
       "      <td>Madang</td>\n",
       "      <td>Papua New Guinea</td>\n",
       "      <td>MAG</td>\n",
       "      <td>AYMD</td>\n",
       "      <td>-5.207080</td>\n",
       "      <td>145.789001</td>\n",
       "      <td>20</td>\n",
       "      <td>10</td>\n",
       "      <td>U</td>\n",
       "      <td>Pacific/Port_Moresby</td>\n",
       "      <td>airport</td>\n",
       "      <td>OurAirports</td>\n",
       "    </tr>\n",
       "    <tr>\n",
       "      <th>2</th>\n",
       "      <td>2</td>\n",
       "      <td>3</td>\n",
       "      <td>Mount Hagen Kagamuga Airport</td>\n",
       "      <td>Mount Hagen</td>\n",
       "      <td>Papua New Guinea</td>\n",
       "      <td>HGU</td>\n",
       "      <td>AYMH</td>\n",
       "      <td>-5.826790</td>\n",
       "      <td>144.296005</td>\n",
       "      <td>5388</td>\n",
       "      <td>10</td>\n",
       "      <td>U</td>\n",
       "      <td>Pacific/Port_Moresby</td>\n",
       "      <td>airport</td>\n",
       "      <td>OurAirports</td>\n",
       "    </tr>\n",
       "    <tr>\n",
       "      <th>3</th>\n",
       "      <td>3</td>\n",
       "      <td>4</td>\n",
       "      <td>Nadzab Airport</td>\n",
       "      <td>Nadzab</td>\n",
       "      <td>Papua New Guinea</td>\n",
       "      <td>LAE</td>\n",
       "      <td>AYNZ</td>\n",
       "      <td>-6.569803</td>\n",
       "      <td>146.725977</td>\n",
       "      <td>239</td>\n",
       "      <td>10</td>\n",
       "      <td>U</td>\n",
       "      <td>Pacific/Port_Moresby</td>\n",
       "      <td>airport</td>\n",
       "      <td>OurAirports</td>\n",
       "    </tr>\n",
       "    <tr>\n",
       "      <th>4</th>\n",
       "      <td>4</td>\n",
       "      <td>5</td>\n",
       "      <td>Port Moresby Jacksons International Airport</td>\n",
       "      <td>Port Moresby</td>\n",
       "      <td>Papua New Guinea</td>\n",
       "      <td>POM</td>\n",
       "      <td>AYPY</td>\n",
       "      <td>-9.443380</td>\n",
       "      <td>147.220001</td>\n",
       "      <td>146</td>\n",
       "      <td>10</td>\n",
       "      <td>U</td>\n",
       "      <td>Pacific/Port_Moresby</td>\n",
       "      <td>airport</td>\n",
       "      <td>OurAirports</td>\n",
       "    </tr>\n",
       "  </tbody>\n",
       "</table>\n",
       "</div>"
      ],
      "text/plain": [
       "   Unnamed: 0  airport_id                                         Name  \\\n",
       "0           0           1                               Goroka Airport   \n",
       "1           1           2                               Madang Airport   \n",
       "2           2           3                 Mount Hagen Kagamuga Airport   \n",
       "3           3           4                               Nadzab Airport   \n",
       "4           4           5  Port Moresby Jacksons International Airport   \n",
       "\n",
       "           City           Country IATA  ICAO  Latitude   Longitude  Altitude  \\\n",
       "0        Goroka  Papua New Guinea  GKA  AYGA -6.081690  145.391998      5282   \n",
       "1        Madang  Papua New Guinea  MAG  AYMD -5.207080  145.789001        20   \n",
       "2   Mount Hagen  Papua New Guinea  HGU  AYMH -5.826790  144.296005      5388   \n",
       "3        Nadzab  Papua New Guinea  LAE  AYNZ -6.569803  146.725977       239   \n",
       "4  Port Moresby  Papua New Guinea  POM  AYPY -9.443380  147.220001       146   \n",
       "\n",
       "  Timezone DST            TzDatabase     Type       Source  \n",
       "0       10   U  Pacific/Port_Moresby  airport  OurAirports  \n",
       "1       10   U  Pacific/Port_Moresby  airport  OurAirports  \n",
       "2       10   U  Pacific/Port_Moresby  airport  OurAirports  \n",
       "3       10   U  Pacific/Port_Moresby  airport  OurAirports  \n",
       "4       10   U  Pacific/Port_Moresby  airport  OurAirports  "
      ]
     },
     "execution_count": 8,
     "metadata": {},
     "output_type": "execute_result"
    }
   ],
   "source": [
    "airports.head()"
   ]
  },
  {
   "cell_type": "code",
   "execution_count": 12,
   "metadata": {},
   "outputs": [
    {
     "data": {
      "text/html": [
       "<div>\n",
       "<style scoped>\n",
       "    .dataframe tbody tr th:only-of-type {\n",
       "        vertical-align: middle;\n",
       "    }\n",
       "\n",
       "    .dataframe tbody tr th {\n",
       "        vertical-align: top;\n",
       "    }\n",
       "\n",
       "    .dataframe thead th {\n",
       "        text-align: right;\n",
       "    }\n",
       "</style>\n",
       "<table border=\"1\" class=\"dataframe\">\n",
       "  <thead>\n",
       "    <tr style=\"text-align: right;\">\n",
       "      <th></th>\n",
       "      <th>source_airport_id</th>\n",
       "      <th>destination_airport_id</th>\n",
       "      <th>Latitude_src</th>\n",
       "      <th>Longitude_src</th>\n",
       "      <th>Latitude_dst</th>\n",
       "      <th>Longitude_dst</th>\n",
       "      <th>distance</th>\n",
       "    </tr>\n",
       "  </thead>\n",
       "  <tbody>\n",
       "    <tr>\n",
       "      <th>0</th>\n",
       "      <td>2965</td>\n",
       "      <td>2990</td>\n",
       "      <td>43.449902</td>\n",
       "      <td>39.956600</td>\n",
       "      <td>55.606201</td>\n",
       "      <td>49.278702</td>\n",
       "      <td>1507.989680</td>\n",
       "    </tr>\n",
       "    <tr>\n",
       "      <th>1</th>\n",
       "      <td>2966</td>\n",
       "      <td>2990</td>\n",
       "      <td>46.283298</td>\n",
       "      <td>48.006302</td>\n",
       "      <td>55.606201</td>\n",
       "      <td>49.278702</td>\n",
       "      <td>1040.943207</td>\n",
       "    </tr>\n",
       "    <tr>\n",
       "      <th>2</th>\n",
       "      <td>2968</td>\n",
       "      <td>2990</td>\n",
       "      <td>55.305801</td>\n",
       "      <td>61.503300</td>\n",
       "      <td>55.606201</td>\n",
       "      <td>49.278702</td>\n",
       "      <td>773.126239</td>\n",
       "    </tr>\n",
       "    <tr>\n",
       "      <th>3</th>\n",
       "      <td>4029</td>\n",
       "      <td>2990</td>\n",
       "      <td>55.408798</td>\n",
       "      <td>37.906300</td>\n",
       "      <td>55.606201</td>\n",
       "      <td>49.278702</td>\n",
       "      <td>718.084202</td>\n",
       "    </tr>\n",
       "    <tr>\n",
       "      <th>4</th>\n",
       "      <td>6156</td>\n",
       "      <td>2990</td>\n",
       "      <td>50.643799</td>\n",
       "      <td>36.590099</td>\n",
       "      <td>55.606201</td>\n",
       "      <td>49.278702</td>\n",
       "      <td>1010.815885</td>\n",
       "    </tr>\n",
       "  </tbody>\n",
       "</table>\n",
       "</div>"
      ],
      "text/plain": [
       "   source_airport_id  destination_airport_id  Latitude_src  Longitude_src  \\\n",
       "0               2965                    2990     43.449902      39.956600   \n",
       "1               2966                    2990     46.283298      48.006302   \n",
       "2               2968                    2990     55.305801      61.503300   \n",
       "3               4029                    2990     55.408798      37.906300   \n",
       "4               6156                    2990     50.643799      36.590099   \n",
       "\n",
       "   Latitude_dst  Longitude_dst     distance  \n",
       "0     55.606201      49.278702  1507.989680  \n",
       "1     55.606201      49.278702  1040.943207  \n",
       "2     55.606201      49.278702   773.126239  \n",
       "3     55.606201      49.278702   718.084202  \n",
       "4     55.606201      49.278702  1010.815885  "
      ]
     },
     "execution_count": 12,
     "metadata": {},
     "output_type": "execute_result"
    }
   ],
   "source": [
    "dists_df.head()"
   ]
  },
  {
   "cell_type": "code",
   "execution_count": 14,
   "metadata": {},
   "outputs": [],
   "source": [
    "# Create graph from distances dataframe\n",
    "# TODO: Build graph from adjacency matrix\n",
    "G = nx.from_pandas_edgelist(dists_df, \n",
    "                            \"source_airport_id\",\n",
    "                           \"destination_airport_id\",\n",
    "                           [\"distance\"])"
   ]
  },
  {
   "cell_type": "markdown",
   "metadata": {},
   "source": [
    "# 3. Explore network attributes"
   ]
  },
  {
   "cell_type": "markdown",
   "metadata": {},
   "source": [
    "Statistics to explore\n",
    "- average degree\n",
    "- connected components\n",
    "- diameter \n",
    "- centrality measures\n",
    "- graph density\n",
    "- page rank \n",
    "- eigenvector centrality"
   ]
  },
  {
   "cell_type": "markdown",
   "metadata": {},
   "source": [
    "## 3.1 Degree distribution"
   ]
  },
  {
   "cell_type": "code",
   "execution_count": 32,
   "metadata": {},
   "outputs": [],
   "source": [
    "# Get degree count\n",
    "degree_list = sorted([d for n, d in G.degree()], reverse = True)\n",
    "degree_count = collections.Counter(degree_list)\n",
    "deg, cnt = zip(*degree_count.items())"
   ]
  },
  {
   "cell_type": "code",
   "execution_count": 46,
   "metadata": {},
   "outputs": [
    {
     "data": {
      "text/plain": [
       "Text(20, 480, 'Mean = 11.734909769757312')"
      ]
     },
     "execution_count": 46,
     "metadata": {},
     "output_type": "execute_result"
    },
    {
     "data": {
      "image/png": "[encoded data removed]",
      "text/plain": [
       "<Figure size 1440x720 with 1 Axes>"
      ]
     },
     "metadata": {},
     "output_type": "display_data"
    }
   ],
   "source": [
    "# Plot degree distribution\n",
    "fig = plt.figure(figsize = (20, 10))\n",
    "ax = fig.add_subplot(111)\n",
    "ax.bar(deg, cnt, width = 0.8, color = \"b\")\n",
    "deg_mean = np.mean(degree_list)\n",
    "ax.axvline(deg_mean, color = \"r\",\n",
    "            linestyle = \"dashed\",\n",
    "           linewidth = 1)\n",
    "ax.set_title(\"Degree histogram\")\n",
    "ax.set_xlabel(\"Degree\")\n",
    "ax.set_ylabel(\"Count\")\n",
    "ax.text(20, 480, \"Mean = {}\".format(deg_mean),\n",
    "        bbox=dict(facecolor='white',\n",
    "                  alpha=0.5), fontsize=16)"
   ]
  },
  {
   "cell_type": "markdown",
   "metadata": {},
   "source": [
    "## 3.2 Connected components"
   ]
  },
  {
   "cell_type": "code",
   "execution_count": 252,
   "metadata": {},
   "outputs": [
    {
     "data": {
      "image/png": "[encoded data removed]",
      "text/plain": [
       "<Figure size 1080x576 with 1 Axes>"
      ]
     },
     "metadata": {},
     "output_type": "display_data"
    }
   ],
   "source": [
    "# Visualize the components\n",
    "fig = plt.figure(figsize = (15, 8))\n",
    "ax = fig.add_subplot(111)\n",
    "nx.draw_networkx(G, ax = ax, node_size = 8,\n",
    "                alpha = 0.5, width = 0.5, \n",
    "                with_labels = False)\n",
    "ax.set_axis_off()"
   ]
  },
  {
   "cell_type": "code",
   "execution_count": 49,
   "metadata": {},
   "outputs": [
    {
     "name": "stdout",
     "output_type": "stream",
     "text": [
      "Number of connecte component is 7\n"
     ]
    }
   ],
   "source": [
    "print(f\"Number of connected components is {nx.number_connected_components(G)}\")"
   ]
  },
  {
   "cell_type": "markdown",
   "metadata": {},
   "source": [
    "For the remaining parts we continue with the largest connected components since XXXX"
   ]
  },
  {
   "cell_type": "code",
   "execution_count": 55,
   "metadata": {},
   "outputs": [],
   "source": [
    "# Get the largest connected components\n",
    "largest_cc = max(nx.connected_component_subgraphs(G), key = len)"
   ]
  },
  {
   "cell_type": "markdown",
   "metadata": {},
   "source": [
    "## 3.3 Largest components diameter"
   ]
  },
  {
   "cell_type": "code",
   "execution_count": 56,
   "metadata": {},
   "outputs": [
    {
     "data": {
      "text/plain": [
       "12"
      ]
     },
     "execution_count": 56,
     "metadata": {},
     "output_type": "execute_result"
    }
   ],
   "source": [
    "# Get the unweighted diameter of the graph\n",
    "# TODO: Decide whether need to use distance between airport for \n",
    "# computing the diameter\n",
    "nx.diameter(largest_cc)"
   ]
  },
  {
   "cell_type": "markdown",
   "metadata": {},
   "source": [
    "## 3.4 Clustering coefficient"
   ]
  },
  {
   "cell_type": "code",
   "execution_count": 57,
   "metadata": {},
   "outputs": [
    {
     "data": {
      "text/plain": [
       "0.4928300852568963"
      ]
     },
     "execution_count": 57,
     "metadata": {},
     "output_type": "execute_result"
    }
   ],
   "source": [
    "# Get the avg clustering coefficient of the graph\n",
    "# The larger the value is, the denser the graph is.\n",
    "nx.average_clustering(largest_cc)"
   ]
  },
  {
   "cell_type": "markdown",
   "metadata": {},
   "source": [
    "## 3.5 Centrality"
   ]
  },
  {
   "cell_type": "code",
   "execution_count": 116,
   "metadata": {},
   "outputs": [],
   "source": [
    "from IPython.display import display"
   ]
  },
  {
   "cell_type": "code",
   "execution_count": 237,
   "metadata": {},
   "outputs": [],
   "source": [
    "# Define number of airports to display in results\n",
    "K = 10"
   ]
  },
  {
   "cell_type": "code",
   "execution_count": 182,
   "metadata": {},
   "outputs": [],
   "source": [
    "def visualize_centrality(centrality, k, centrality_type):\n",
    "    \"\"\"\n",
    "    Show top k airports with respect to centrality\n",
    "    Visualize their centrality values\n",
    "    @param centrality (dict): centrality mapping\n",
    "    @param k (int): number of results to be visualized\n",
    "    \"\"\"\n",
    "    \n",
    "    # Get top k airport ids\n",
    "    airport_ids = [key for key, _ in sorted(centrality.items(), key = lambda item: item[1],\n",
    "                                           reverse = True)[: k]]\n",
    "    # Get their corresponding centrality values\n",
    "    top_centrality = [centrality[key] for key in airport_ids]\n",
    "    \n",
    "    # Print the top k airports' data\n",
    "    print(f\"Top {k} {centrality_type} airports are\")\n",
    "    freq_airports = airports[[\"airport_id\", \"Name\", \"IATA\", \"City\", \"Country\", \"TzDatabase\"]].copy()\n",
    "    freq_airports.reset_index()\n",
    "    freq_airports.set_index(\"airport_id\", inplace = True)\n",
    "    freq_airports = freq_airports.loc[airport_ids]\n",
    "    display(freq_airports[[\"Name\", \"IATA\", \"City\", \"Country\", \"TzDatabase\"]])\n",
    "    \n",
    "    # Visualize the top k airports' centrality value\n",
    "    fig = plt.figure(figsize = (10, 5))\n",
    "    ax = fig.add_subplot(111)\n",
    "    freq_airport_abbre = freq_airports[\"IATA\"].values\n",
    "    ax.bar(range(k),top_centrality)\n",
    "    ax.set_xticks(range(k))\n",
    "    ax.set_xticklabels(freq_airport_abbre)\n",
    "    ax.set_title(f\"Top {k} {centrality_type} airports\")\n",
    "    ax.set_xlabel(\"IATA\")\n",
    "    ax.set_ylabel(\"Centrality\")"
   ]
  },
  {
   "cell_type": "markdown",
   "metadata": {},
   "source": [
    "### 3.5.1 Betweenness centrality"
   ]
  },
  {
   "cell_type": "code",
   "execution_count": 150,
   "metadata": {},
   "outputs": [],
   "source": [
    "# Get the betweeness centrality\n",
    "betweenness = nx.betweenness_centrality(largest_cc)"
   ]
  },
  {
   "cell_type": "code",
   "execution_count": 183,
   "metadata": {
    "scrolled": false
   },
   "outputs": [
    {
     "name": "stdout",
     "output_type": "stream",
     "text": [
      "Top 10 betweenness centrality airports are\n"
     ]
    },
    {
     "data": {
      "text/html": [
       "<div>\n",
       "<style scoped>\n",
       "    .dataframe tbody tr th:only-of-type {\n",
       "        vertical-align: middle;\n",
       "    }\n",
       "\n",
       "    .dataframe tbody tr th {\n",
       "        vertical-align: top;\n",
       "    }\n",
       "\n",
       "    .dataframe thead th {\n",
       "        text-align: right;\n",
       "    }\n",
       "</style>\n",
       "<table border=\"1\" class=\"dataframe\">\n",
       "  <thead>\n",
       "    <tr style=\"text-align: right;\">\n",
       "      <th></th>\n",
       "      <th>Name</th>\n",
       "      <th>IATA</th>\n",
       "      <th>City</th>\n",
       "      <th>Country</th>\n",
       "      <th>TzDatabase</th>\n",
       "    </tr>\n",
       "    <tr>\n",
       "      <th>airport_id</th>\n",
       "      <th></th>\n",
       "      <th></th>\n",
       "      <th></th>\n",
       "      <th></th>\n",
       "      <th></th>\n",
       "    </tr>\n",
       "  </thead>\n",
       "  <tbody>\n",
       "    <tr>\n",
       "      <th>1382</th>\n",
       "      <td>Charles de Gaulle International Airport</td>\n",
       "      <td>CDG</td>\n",
       "      <td>Paris</td>\n",
       "      <td>France</td>\n",
       "      <td>Europe/Paris</td>\n",
       "    </tr>\n",
       "    <tr>\n",
       "      <th>3484</th>\n",
       "      <td>Los Angeles International Airport</td>\n",
       "      <td>LAX</td>\n",
       "      <td>Los Angeles</td>\n",
       "      <td>United States</td>\n",
       "      <td>America/Los_Angeles</td>\n",
       "    </tr>\n",
       "    <tr>\n",
       "      <th>3774</th>\n",
       "      <td>Ted Stevens Anchorage International Airport</td>\n",
       "      <td>ANC</td>\n",
       "      <td>Anchorage</td>\n",
       "      <td>United States</td>\n",
       "      <td>America/Anchorage</td>\n",
       "    </tr>\n",
       "    <tr>\n",
       "      <th>2188</th>\n",
       "      <td>Dubai International Airport</td>\n",
       "      <td>DXB</td>\n",
       "      <td>Dubai</td>\n",
       "      <td>United Arab Emirates</td>\n",
       "      <td>Asia/Dubai</td>\n",
       "    </tr>\n",
       "    <tr>\n",
       "      <th>340</th>\n",
       "      <td>Frankfurt am Main Airport</td>\n",
       "      <td>FRA</td>\n",
       "      <td>Frankfurt</td>\n",
       "      <td>Germany</td>\n",
       "      <td>Europe/Berlin</td>\n",
       "    </tr>\n",
       "    <tr>\n",
       "      <th>580</th>\n",
       "      <td>Amsterdam Airport Schiphol</td>\n",
       "      <td>AMS</td>\n",
       "      <td>Amsterdam</td>\n",
       "      <td>Netherlands</td>\n",
       "      <td>Europe/Amsterdam</td>\n",
       "    </tr>\n",
       "    <tr>\n",
       "      <th>3364</th>\n",
       "      <td>Beijing Capital International Airport</td>\n",
       "      <td>PEK</td>\n",
       "      <td>Beijing</td>\n",
       "      <td>China</td>\n",
       "      <td>Asia/Shanghai</td>\n",
       "    </tr>\n",
       "    <tr>\n",
       "      <th>3830</th>\n",
       "      <td>Chicago O'Hare International Airport</td>\n",
       "      <td>ORD</td>\n",
       "      <td>Chicago</td>\n",
       "      <td>United States</td>\n",
       "      <td>America/Chicago</td>\n",
       "    </tr>\n",
       "    <tr>\n",
       "      <th>193</th>\n",
       "      <td>Lester B. Pearson International Airport</td>\n",
       "      <td>YYZ</td>\n",
       "      <td>Toronto</td>\n",
       "      <td>Canada</td>\n",
       "      <td>America/Toronto</td>\n",
       "    </tr>\n",
       "    <tr>\n",
       "      <th>1701</th>\n",
       "      <td>Atatürk International Airport</td>\n",
       "      <td>ISL</td>\n",
       "      <td>Istanbul</td>\n",
       "      <td>Turkey</td>\n",
       "      <td>Europe/Istanbul</td>\n",
       "    </tr>\n",
       "  </tbody>\n",
       "</table>\n",
       "</div>"
      ],
      "text/plain": [
       "                                                   Name IATA         City  \\\n",
       "airport_id                                                                  \n",
       "1382            Charles de Gaulle International Airport  CDG        Paris   \n",
       "3484                  Los Angeles International Airport  LAX  Los Angeles   \n",
       "3774        Ted Stevens Anchorage International Airport  ANC    Anchorage   \n",
       "2188                        Dubai International Airport  DXB        Dubai   \n",
       "340                           Frankfurt am Main Airport  FRA    Frankfurt   \n",
       "580                          Amsterdam Airport Schiphol  AMS    Amsterdam   \n",
       "3364              Beijing Capital International Airport  PEK      Beijing   \n",
       "3830               Chicago O'Hare International Airport  ORD      Chicago   \n",
       "193             Lester B. Pearson International Airport  YYZ      Toronto   \n",
       "1701                      Atatürk International Airport  ISL     Istanbul   \n",
       "\n",
       "                         Country           TzDatabase  \n",
       "airport_id                                             \n",
       "1382                      France         Europe/Paris  \n",
       "3484               United States  America/Los_Angeles  \n",
       "3774               United States    America/Anchorage  \n",
       "2188        United Arab Emirates           Asia/Dubai  \n",
       "340                      Germany        Europe/Berlin  \n",
       "580                  Netherlands     Europe/Amsterdam  \n",
       "3364                       China        Asia/Shanghai  \n",
       "3830               United States      America/Chicago  \n",
       "193                       Canada      America/Toronto  \n",
       "1701                      Turkey      Europe/Istanbul  "
      ]
     },
     "metadata": {},
     "output_type": "display_data"
    },
    {
     "data": {
      "image/png": "[encoded data removed]",
      "text/plain": [
       "<Figure size 720x360 with 1 Axes>"
      ]
     },
     "metadata": {},
     "output_type": "display_data"
    }
   ],
   "source": [
    "# Show the top 10 airports with highest betweenness centrality\n",
    "visualize_centrality(betweenness, K, \"betweenness centrality\")"
   ]
  },
  {
   "cell_type": "markdown",
   "metadata": {},
   "source": [
    "### 3.5.2 Eigen vector centrality"
   ]
  },
  {
   "cell_type": "code",
   "execution_count": 185,
   "metadata": {},
   "outputs": [
    {
     "name": "stdout",
     "output_type": "stream",
     "text": [
      "Top 10 eigenvalue centrality airports are\n"
     ]
    },
    {
     "data": {
      "text/html": [
       "<div>\n",
       "<style scoped>\n",
       "    .dataframe tbody tr th:only-of-type {\n",
       "        vertical-align: middle;\n",
       "    }\n",
       "\n",
       "    .dataframe tbody tr th {\n",
       "        vertical-align: top;\n",
       "    }\n",
       "\n",
       "    .dataframe thead th {\n",
       "        text-align: right;\n",
       "    }\n",
       "</style>\n",
       "<table border=\"1\" class=\"dataframe\">\n",
       "  <thead>\n",
       "    <tr style=\"text-align: right;\">\n",
       "      <th></th>\n",
       "      <th>Name</th>\n",
       "      <th>IATA</th>\n",
       "      <th>City</th>\n",
       "      <th>Country</th>\n",
       "      <th>TzDatabase</th>\n",
       "    </tr>\n",
       "    <tr>\n",
       "      <th>airport_id</th>\n",
       "      <th></th>\n",
       "      <th></th>\n",
       "      <th></th>\n",
       "      <th></th>\n",
       "      <th></th>\n",
       "    </tr>\n",
       "  </thead>\n",
       "  <tbody>\n",
       "    <tr>\n",
       "      <th>580</th>\n",
       "      <td>Amsterdam Airport Schiphol</td>\n",
       "      <td>AMS</td>\n",
       "      <td>Amsterdam</td>\n",
       "      <td>Netherlands</td>\n",
       "      <td>Europe/Amsterdam</td>\n",
       "    </tr>\n",
       "    <tr>\n",
       "      <th>340</th>\n",
       "      <td>Frankfurt am Main Airport</td>\n",
       "      <td>FRA</td>\n",
       "      <td>Frankfurt</td>\n",
       "      <td>Germany</td>\n",
       "      <td>Europe/Berlin</td>\n",
       "    </tr>\n",
       "    <tr>\n",
       "      <th>1382</th>\n",
       "      <td>Charles de Gaulle International Airport</td>\n",
       "      <td>CDG</td>\n",
       "      <td>Paris</td>\n",
       "      <td>France</td>\n",
       "      <td>Europe/Paris</td>\n",
       "    </tr>\n",
       "    <tr>\n",
       "      <th>346</th>\n",
       "      <td>Munich Airport</td>\n",
       "      <td>MUC</td>\n",
       "      <td>Munich</td>\n",
       "      <td>Germany</td>\n",
       "      <td>Europe/Berlin</td>\n",
       "    </tr>\n",
       "    <tr>\n",
       "      <th>1555</th>\n",
       "      <td>Leonardo da Vinci–Fiumicino Airport</td>\n",
       "      <td>FCO</td>\n",
       "      <td>Rome</td>\n",
       "      <td>Italy</td>\n",
       "      <td>Europe/Rome</td>\n",
       "    </tr>\n",
       "    <tr>\n",
       "      <th>507</th>\n",
       "      <td>London Heathrow Airport</td>\n",
       "      <td>LHR</td>\n",
       "      <td>London</td>\n",
       "      <td>United Kingdom</td>\n",
       "      <td>Europe/London</td>\n",
       "    </tr>\n",
       "    <tr>\n",
       "      <th>1701</th>\n",
       "      <td>Atatürk International Airport</td>\n",
       "      <td>ISL</td>\n",
       "      <td>Istanbul</td>\n",
       "      <td>Turkey</td>\n",
       "      <td>Europe/Istanbul</td>\n",
       "    </tr>\n",
       "    <tr>\n",
       "      <th>1218</th>\n",
       "      <td>Barcelona International Airport</td>\n",
       "      <td>BCN</td>\n",
       "      <td>Barcelona</td>\n",
       "      <td>Spain</td>\n",
       "      <td>Europe/Madrid</td>\n",
       "    </tr>\n",
       "    <tr>\n",
       "      <th>1678</th>\n",
       "      <td>Zürich Airport</td>\n",
       "      <td>ZRH</td>\n",
       "      <td>Zurich</td>\n",
       "      <td>Switzerland</td>\n",
       "      <td>Europe/Zurich</td>\n",
       "    </tr>\n",
       "    <tr>\n",
       "      <th>1229</th>\n",
       "      <td>Adolfo Suárez Madrid–Barajas Airport</td>\n",
       "      <td>MAD</td>\n",
       "      <td>Madrid</td>\n",
       "      <td>Spain</td>\n",
       "      <td>Europe/Madrid</td>\n",
       "    </tr>\n",
       "  </tbody>\n",
       "</table>\n",
       "</div>"
      ],
      "text/plain": [
       "                                               Name IATA       City  \\\n",
       "airport_id                                                            \n",
       "580                      Amsterdam Airport Schiphol  AMS  Amsterdam   \n",
       "340                       Frankfurt am Main Airport  FRA  Frankfurt   \n",
       "1382        Charles de Gaulle International Airport  CDG      Paris   \n",
       "346                                  Munich Airport  MUC     Munich   \n",
       "1555            Leonardo da Vinci–Fiumicino Airport  FCO       Rome   \n",
       "507                         London Heathrow Airport  LHR     London   \n",
       "1701                  Atatürk International Airport  ISL   Istanbul   \n",
       "1218                Barcelona International Airport  BCN  Barcelona   \n",
       "1678                                 Zürich Airport  ZRH     Zurich   \n",
       "1229           Adolfo Suárez Madrid–Barajas Airport  MAD     Madrid   \n",
       "\n",
       "                   Country        TzDatabase  \n",
       "airport_id                                    \n",
       "580            Netherlands  Europe/Amsterdam  \n",
       "340                Germany     Europe/Berlin  \n",
       "1382                France      Europe/Paris  \n",
       "346                Germany     Europe/Berlin  \n",
       "1555                 Italy       Europe/Rome  \n",
       "507         United Kingdom     Europe/London  \n",
       "1701                Turkey   Europe/Istanbul  \n",
       "1218                 Spain     Europe/Madrid  \n",
       "1678           Switzerland     Europe/Zurich  \n",
       "1229                 Spain     Europe/Madrid  "
      ]
     },
     "metadata": {},
     "output_type": "display_data"
    },
    {
     "data": {
      "image/png": "[encoded data removed]",
      "text/plain": [
       "<Figure size 720x360 with 1 Axes>"
      ]
     },
     "metadata": {},
     "output_type": "display_data"
    }
   ],
   "source": [
    "eigenvector_centrality = nx.eigenvector_centrality(largest_cc)\n",
    "visualize_centrality(eigenvector_centrality, K, \"eigenvalue centrality\")"
   ]
  },
  {
   "cell_type": "markdown",
   "metadata": {},
   "source": [
    "### 3.5.3 PageRank "
   ]
  },
  {
   "cell_type": "code",
   "execution_count": 186,
   "metadata": {},
   "outputs": [
    {
     "name": "stdout",
     "output_type": "stream",
     "text": [
      "Top 10 pagerank airports are\n"
     ]
    },
    {
     "data": {
      "text/html": [
       "<div>\n",
       "<style scoped>\n",
       "    .dataframe tbody tr th:only-of-type {\n",
       "        vertical-align: middle;\n",
       "    }\n",
       "\n",
       "    .dataframe tbody tr th {\n",
       "        vertical-align: top;\n",
       "    }\n",
       "\n",
       "    .dataframe thead th {\n",
       "        text-align: right;\n",
       "    }\n",
       "</style>\n",
       "<table border=\"1\" class=\"dataframe\">\n",
       "  <thead>\n",
       "    <tr style=\"text-align: right;\">\n",
       "      <th></th>\n",
       "      <th>Name</th>\n",
       "      <th>IATA</th>\n",
       "      <th>City</th>\n",
       "      <th>Country</th>\n",
       "      <th>TzDatabase</th>\n",
       "    </tr>\n",
       "    <tr>\n",
       "      <th>airport_id</th>\n",
       "      <th></th>\n",
       "      <th></th>\n",
       "      <th></th>\n",
       "      <th></th>\n",
       "      <th></th>\n",
       "    </tr>\n",
       "  </thead>\n",
       "  <tbody>\n",
       "    <tr>\n",
       "      <th>3682</th>\n",
       "      <td>Hartsfield Jackson Atlanta International Airport</td>\n",
       "      <td>ATL</td>\n",
       "      <td>Atlanta</td>\n",
       "      <td>United States</td>\n",
       "      <td>America/New_York</td>\n",
       "    </tr>\n",
       "    <tr>\n",
       "      <th>3830</th>\n",
       "      <td>Chicago O'Hare International Airport</td>\n",
       "      <td>ORD</td>\n",
       "      <td>Chicago</td>\n",
       "      <td>United States</td>\n",
       "      <td>America/Chicago</td>\n",
       "    </tr>\n",
       "    <tr>\n",
       "      <th>1701</th>\n",
       "      <td>Atatürk International Airport</td>\n",
       "      <td>ISL</td>\n",
       "      <td>Istanbul</td>\n",
       "      <td>Turkey</td>\n",
       "      <td>Europe/Istanbul</td>\n",
       "    </tr>\n",
       "    <tr>\n",
       "      <th>3670</th>\n",
       "      <td>Dallas Fort Worth International Airport</td>\n",
       "      <td>DFW</td>\n",
       "      <td>Dallas-Fort Worth</td>\n",
       "      <td>United States</td>\n",
       "      <td>America/Chicago</td>\n",
       "    </tr>\n",
       "    <tr>\n",
       "      <th>3751</th>\n",
       "      <td>Denver International Airport</td>\n",
       "      <td>DEN</td>\n",
       "      <td>Denver</td>\n",
       "      <td>United States</td>\n",
       "      <td>America/Denver</td>\n",
       "    </tr>\n",
       "    <tr>\n",
       "      <th>1382</th>\n",
       "      <td>Charles de Gaulle International Airport</td>\n",
       "      <td>CDG</td>\n",
       "      <td>Paris</td>\n",
       "      <td>France</td>\n",
       "      <td>Europe/Paris</td>\n",
       "    </tr>\n",
       "    <tr>\n",
       "      <th>4029</th>\n",
       "      <td>Domodedovo International Airport</td>\n",
       "      <td>DME</td>\n",
       "      <td>Moscow</td>\n",
       "      <td>Russia</td>\n",
       "      <td>Europe/Moscow</td>\n",
       "    </tr>\n",
       "    <tr>\n",
       "      <th>580</th>\n",
       "      <td>Amsterdam Airport Schiphol</td>\n",
       "      <td>AMS</td>\n",
       "      <td>Amsterdam</td>\n",
       "      <td>Netherlands</td>\n",
       "      <td>Europe/Amsterdam</td>\n",
       "    </tr>\n",
       "    <tr>\n",
       "      <th>340</th>\n",
       "      <td>Frankfurt am Main Airport</td>\n",
       "      <td>FRA</td>\n",
       "      <td>Frankfurt</td>\n",
       "      <td>Germany</td>\n",
       "      <td>Europe/Berlin</td>\n",
       "    </tr>\n",
       "    <tr>\n",
       "      <th>3364</th>\n",
       "      <td>Beijing Capital International Airport</td>\n",
       "      <td>PEK</td>\n",
       "      <td>Beijing</td>\n",
       "      <td>China</td>\n",
       "      <td>Asia/Shanghai</td>\n",
       "    </tr>\n",
       "  </tbody>\n",
       "</table>\n",
       "</div>"
      ],
      "text/plain": [
       "                                                        Name IATA  \\\n",
       "airport_id                                                          \n",
       "3682        Hartsfield Jackson Atlanta International Airport  ATL   \n",
       "3830                    Chicago O'Hare International Airport  ORD   \n",
       "1701                           Atatürk International Airport  ISL   \n",
       "3670                 Dallas Fort Worth International Airport  DFW   \n",
       "3751                            Denver International Airport  DEN   \n",
       "1382                 Charles de Gaulle International Airport  CDG   \n",
       "4029                        Domodedovo International Airport  DME   \n",
       "580                               Amsterdam Airport Schiphol  AMS   \n",
       "340                                Frankfurt am Main Airport  FRA   \n",
       "3364                   Beijing Capital International Airport  PEK   \n",
       "\n",
       "                         City        Country        TzDatabase  \n",
       "airport_id                                                      \n",
       "3682                  Atlanta  United States  America/New_York  \n",
       "3830                  Chicago  United States   America/Chicago  \n",
       "1701                 Istanbul         Turkey   Europe/Istanbul  \n",
       "3670        Dallas-Fort Worth  United States   America/Chicago  \n",
       "3751                   Denver  United States    America/Denver  \n",
       "1382                    Paris         France      Europe/Paris  \n",
       "4029                   Moscow         Russia     Europe/Moscow  \n",
       "580                 Amsterdam    Netherlands  Europe/Amsterdam  \n",
       "340                 Frankfurt        Germany     Europe/Berlin  \n",
       "3364                  Beijing          China     Asia/Shanghai  "
      ]
     },
     "metadata": {},
     "output_type": "display_data"
    },
    {
     "data": {
      "image/png": "[encoded data removed]",
      "text/plain": [
       "<Figure size 720x360 with 1 Axes>"
      ]
     },
     "metadata": {},
     "output_type": "display_data"
    }
   ],
   "source": [
    "pagerank = nx.pagerank(largest_cc)\n",
    "visualize_centrality(pagerank, K, \"pagerank\")"
   ]
  },
  {
   "cell_type": "markdown",
   "metadata": {},
   "source": [
    "### 3.5.4 Summary of centrality"
   ]
  },
  {
   "cell_type": "markdown",
   "metadata": {},
   "source": [
    "To eliminate the difference between variance of several measures, we take mean of ranks instead of centrality values of airports to produce the summary."
   ]
  },
  {
   "cell_type": "code",
   "execution_count": 240,
   "metadata": {},
   "outputs": [],
   "source": [
    "# Get order of each centrality measure\n",
    "betweenness_ordered = dict(zip([k for k, _ in sorted(betweenness.items(),\n",
    "                                                     key = lambda item: item[1],\n",
    "                                                     reverse = True)],\n",
    "                               range(1, len(betweenness) + 1)))\n",
    "\n",
    "eigenvector_ordered = dict(zip([k for k, _ in sorted(eigenvector_centrality.items(),\n",
    "                                                     key = lambda item: item[1],\n",
    "                                                     reverse = True)],\n",
    "                               range(1, len(eigenvector_ordered) + 1)))\n",
    "\n",
    "pagerank_ordered = dict(zip([k for k, _ in sorted(pagerank.items(),\n",
    "                                                  key = lambda item: item[1],\n",
    "                                                  reverse = True)],\n",
    "                            range(1, len(pagerank_ordered) + 1)))"
   ]
  },
  {
   "cell_type": "code",
   "execution_count": 241,
   "metadata": {},
   "outputs": [],
   "source": [
    "# Create centrality summary with each centrality measure\n",
    "centrality_summary = pd.DataFrame.from_dict([betweenness_ordered,\n",
    "                                             eigenvector_ordered,\n",
    "                                            pagerank_ordered])\\\n",
    "                                    .transpose()\n",
    "\n",
    "centrality_summary.columns = [\"Betwenness\", \"EigenVector\", \"PageRank\"]\n",
    "\n",
    "# Compute mean of all measures\n",
    "centrality_summary[\"Mean_rank\"] = centrality_summary.mean(axis = 1)\n",
    "\n",
    "# Add Airport information to summary\n",
    "centrality_summary = centrality_summary.merge(airports[[\"airport_id\", \"Name\",\n",
    "                                                        \"City\", \"Country\", \"TzDatabase\"]],\n",
    "                                             left_index = True,\n",
    "                                             right_on = \"airport_id\")\\\n",
    "                                        .drop(labels = \"airport_id\", axis = 1)"
   ]
  },
  {
   "cell_type": "code",
   "execution_count": 244,
   "metadata": {},
   "outputs": [
    {
     "data": {
      "text/html": [
       "<div>\n",
       "<style scoped>\n",
       "    .dataframe tbody tr th:only-of-type {\n",
       "        vertical-align: middle;\n",
       "    }\n",
       "\n",
       "    .dataframe tbody tr th {\n",
       "        vertical-align: top;\n",
       "    }\n",
       "\n",
       "    .dataframe thead th {\n",
       "        text-align: right;\n",
       "    }\n",
       "</style>\n",
       "<table border=\"1\" class=\"dataframe\">\n",
       "  <thead>\n",
       "    <tr style=\"text-align: right;\">\n",
       "      <th></th>\n",
       "      <th>Betwenness</th>\n",
       "      <th>EigenVector</th>\n",
       "      <th>PageRank</th>\n",
       "      <th>Mean_rank</th>\n",
       "      <th>Name</th>\n",
       "      <th>City</th>\n",
       "      <th>Country</th>\n",
       "      <th>TzDatabase</th>\n",
       "    </tr>\n",
       "    <tr>\n",
       "      <th>Overall rank</th>\n",
       "      <th></th>\n",
       "      <th></th>\n",
       "      <th></th>\n",
       "      <th></th>\n",
       "      <th></th>\n",
       "      <th></th>\n",
       "      <th></th>\n",
       "      <th></th>\n",
       "    </tr>\n",
       "  </thead>\n",
       "  <tbody>\n",
       "    <tr>\n",
       "      <th>1</th>\n",
       "      <td>1</td>\n",
       "      <td>3</td>\n",
       "      <td>6</td>\n",
       "      <td>3.333333</td>\n",
       "      <td>Charles de Gaulle International Airport</td>\n",
       "      <td>Paris</td>\n",
       "      <td>France</td>\n",
       "      <td>Europe/Paris</td>\n",
       "    </tr>\n",
       "    <tr>\n",
       "      <th>2</th>\n",
       "      <td>6</td>\n",
       "      <td>1</td>\n",
       "      <td>8</td>\n",
       "      <td>5.000000</td>\n",
       "      <td>Amsterdam Airport Schiphol</td>\n",
       "      <td>Amsterdam</td>\n",
       "      <td>Netherlands</td>\n",
       "      <td>Europe/Amsterdam</td>\n",
       "    </tr>\n",
       "    <tr>\n",
       "      <th>3</th>\n",
       "      <td>5</td>\n",
       "      <td>2</td>\n",
       "      <td>9</td>\n",
       "      <td>5.333333</td>\n",
       "      <td>Frankfurt am Main Airport</td>\n",
       "      <td>Frankfurt</td>\n",
       "      <td>Germany</td>\n",
       "      <td>Europe/Berlin</td>\n",
       "    </tr>\n",
       "    <tr>\n",
       "      <th>4</th>\n",
       "      <td>10</td>\n",
       "      <td>7</td>\n",
       "      <td>3</td>\n",
       "      <td>6.666667</td>\n",
       "      <td>Atatürk International Airport</td>\n",
       "      <td>Istanbul</td>\n",
       "      <td>Turkey</td>\n",
       "      <td>Europe/Istanbul</td>\n",
       "    </tr>\n",
       "    <tr>\n",
       "      <th>5</th>\n",
       "      <td>4</td>\n",
       "      <td>20</td>\n",
       "      <td>11</td>\n",
       "      <td>11.666667</td>\n",
       "      <td>Dubai International Airport</td>\n",
       "      <td>Dubai</td>\n",
       "      <td>United Arab Emirates</td>\n",
       "      <td>Asia/Dubai</td>\n",
       "    </tr>\n",
       "    <tr>\n",
       "      <th>6</th>\n",
       "      <td>8</td>\n",
       "      <td>28</td>\n",
       "      <td>2</td>\n",
       "      <td>12.666667</td>\n",
       "      <td>Chicago O'Hare International Airport</td>\n",
       "      <td>Chicago</td>\n",
       "      <td>United States</td>\n",
       "      <td>America/Chicago</td>\n",
       "    </tr>\n",
       "    <tr>\n",
       "      <th>7</th>\n",
       "      <td>12</td>\n",
       "      <td>6</td>\n",
       "      <td>21</td>\n",
       "      <td>13.000000</td>\n",
       "      <td>London Heathrow Airport</td>\n",
       "      <td>London</td>\n",
       "      <td>United Kingdom</td>\n",
       "      <td>Europe/London</td>\n",
       "    </tr>\n",
       "    <tr>\n",
       "      <th>8</th>\n",
       "      <td>7</td>\n",
       "      <td>35</td>\n",
       "      <td>10</td>\n",
       "      <td>17.333333</td>\n",
       "      <td>Beijing Capital International Airport</td>\n",
       "      <td>Beijing</td>\n",
       "      <td>China</td>\n",
       "      <td>Asia/Shanghai</td>\n",
       "    </tr>\n",
       "    <tr>\n",
       "      <th>9</th>\n",
       "      <td>9</td>\n",
       "      <td>29</td>\n",
       "      <td>15</td>\n",
       "      <td>17.666667</td>\n",
       "      <td>Lester B. Pearson International Airport</td>\n",
       "      <td>Toronto</td>\n",
       "      <td>Canada</td>\n",
       "      <td>America/Toronto</td>\n",
       "    </tr>\n",
       "    <tr>\n",
       "      <th>10</th>\n",
       "      <td>19</td>\n",
       "      <td>37</td>\n",
       "      <td>1</td>\n",
       "      <td>19.000000</td>\n",
       "      <td>Hartsfield Jackson Atlanta International Airport</td>\n",
       "      <td>Atlanta</td>\n",
       "      <td>United States</td>\n",
       "      <td>America/New_York</td>\n",
       "    </tr>\n",
       "  </tbody>\n",
       "</table>\n",
       "</div>"
      ],
      "text/plain": [
       "              Betwenness  EigenVector  PageRank  Mean_rank  \\\n",
       "Overall rank                                                 \n",
       "1                      1            3         6   3.333333   \n",
       "2                      6            1         8   5.000000   \n",
       "3                      5            2         9   5.333333   \n",
       "4                     10            7         3   6.666667   \n",
       "5                      4           20        11  11.666667   \n",
       "6                      8           28         2  12.666667   \n",
       "7                     12            6        21  13.000000   \n",
       "8                      7           35        10  17.333333   \n",
       "9                      9           29        15  17.666667   \n",
       "10                    19           37         1  19.000000   \n",
       "\n",
       "                                                          Name       City  \\\n",
       "Overall rank                                                                \n",
       "1                      Charles de Gaulle International Airport      Paris   \n",
       "2                                   Amsterdam Airport Schiphol  Amsterdam   \n",
       "3                                    Frankfurt am Main Airport  Frankfurt   \n",
       "4                                Atatürk International Airport   Istanbul   \n",
       "5                                  Dubai International Airport      Dubai   \n",
       "6                         Chicago O'Hare International Airport    Chicago   \n",
       "7                                      London Heathrow Airport     London   \n",
       "8                        Beijing Capital International Airport    Beijing   \n",
       "9                      Lester B. Pearson International Airport    Toronto   \n",
       "10            Hartsfield Jackson Atlanta International Airport    Atlanta   \n",
       "\n",
       "                           Country        TzDatabase  \n",
       "Overall rank                                          \n",
       "1                           France      Europe/Paris  \n",
       "2                      Netherlands  Europe/Amsterdam  \n",
       "3                          Germany     Europe/Berlin  \n",
       "4                           Turkey   Europe/Istanbul  \n",
       "5             United Arab Emirates        Asia/Dubai  \n",
       "6                    United States   America/Chicago  \n",
       "7                   United Kingdom     Europe/London  \n",
       "8                            China     Asia/Shanghai  \n",
       "9                           Canada   America/Toronto  \n",
       "10                   United States  America/New_York  "
      ]
     },
     "execution_count": 244,
     "metadata": {},
     "output_type": "execute_result"
    }
   ],
   "source": [
    "# Get top K airports with respect to mean rank\n",
    "displayed_summary = centrality_summary.sort_values(by = \"Mean_rank\", ascending = True, axis = 0).head(10)\n",
    "displayed_summary.index = range(1, K + 1)\n",
    "displayed_summary.index.name = \"Overall rank\"\n",
    "displayed_summary"
   ]
  },
  {
   "cell_type": "markdown",
   "metadata": {},
   "source": [
    "## 3.6 Flight distance"
   ]
  },
  {
   "cell_type": "code",
   "execution_count": 251,
   "metadata": {},
   "outputs": [
    {
     "data": {
      "text/plain": [
       "Text(0, 0.5, 'Count')"
      ]
     },
     "execution_count": 251,
     "metadata": {},
     "output_type": "execute_result"
    },
    {
     "data": {
      "image/png": "[encoded data removed]",
      "text/plain": [
       "<Figure size 576x360 with 1 Axes>"
      ]
     },
     "metadata": {},
     "output_type": "display_data"
    }
   ],
   "source": [
    "# Visualize the flight distance \n",
    "fig = plt.figure(figsize = (8, 5))\n",
    "ax = fig.add_subplot(111)\n",
    "_ = ax.hist(x = dists_df[\"distance\"], bins = 50, rwidth = 0.8)\n",
    "ax.set_title(\"Flight distance distribution\")\n",
    "ax.set_xlabel(\"Distance\")\n",
    "ax.set_ylabel(\"Count\")"
   ]
  },
  {
   "cell_type": "code",
   "execution_count": 16,
   "metadata": {},
   "outputs": [],
   "source": [
    "largest_cc = max(nx.connected_component_subgraphs(G), key = len)"
   ]
  },
  {
   "cell_type": "code",
   "execution_count": 18,
   "metadata": {},
   "outputs": [],
   "source": [
    "nx.write_gpickle(largest_cc, \"./data/largest_cc.gpickle\")"
   ]
  },
  {
   "cell_type": "code",
   "execution_count": null,
   "metadata": {},
   "outputs": [],
   "source": []
  }
 ],
 "metadata": {
  "kernelspec": {
   "display_name": "Python 3",
   "language": "python",
   "name": "python3"
  },
  "language_info": {
   "codemirror_mode": {
    "name": "ipython",
    "version": 3
   },
   "file_extension": ".py",
   "mimetype": "text/x-python",
   "name": "python",
   "nbconvert_exporter": "python",
   "pygments_lexer": "ipython3",
   "version": "3.6.8"
  }
 },
 "nbformat": 4,
 "nbformat_minor": 2
}
